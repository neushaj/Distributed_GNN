{
 "cells": [
  {
   "cell_type": "code",
   "execution_count": 1,
   "id": "afa525e9",
   "metadata": {},
   "outputs": [
    {
     "name": "stderr",
     "output_type": "stream",
     "text": [
      "C:\\Users\\ctway\\anaconda3\\envs\\distributed_GCN\\lib\\site-packages\\tqdm\\auto.py:22: TqdmWarning: IProgress not found. Please update jupyter and ipywidgets. See https://ipywidgets.readthedocs.io/en/stable/user_install.html\n",
      "  from .autonotebook import tqdm as notebook_tqdm\n"
     ]
    }
   ],
   "source": [
    "from src.run_exp import exp\n",
    "import json\n"
   ]
  },
  {
   "cell_type": "code",
   "execution_count": 1,
   "id": "1558ea6b",
   "metadata": {},
   "outputs": [
    {
     "name": "stdout",
     "output_type": "stream",
     "text": [
      "UNSAT\n",
      "Please using solve_maxcut_z3 or solve_maxcut_FM to get the maxcut result\n"
     ]
    }
   ],
   "source": [
    "from src.traditional_solver import solve_maxsat_z3, solve_maxsat_FM, solve_uf_unknown\n",
    "solve_uf_unknown('./data/sat_data/uuf50-test/uuf50-03.cnf')"
   ]
  },
  {
   "cell_type": "code",
   "execution_count": 2,
   "id": "b837a41e",
   "metadata": {},
   "outputs": [
    {
     "data": {
      "text/html": [
       "[46 = False,\n",
       " 30 = False,\n",
       " 13 = True,\n",
       " 17 = False,\n",
       " 36 = True,\n",
       " 15 = False,\n",
       " 7 = True,\n",
       " 47 = True,\n",
       " 41 = False,\n",
       " 37 = False,\n",
       " 6 = True,\n",
       " 33 = False,\n",
       " 34 = True,\n",
       " 0 = False,\n",
       " 8 = True,\n",
       " 12 = False,\n",
       " 49 = False,\n",
       " 3 = True,\n",
       " 38 = True,\n",
       " 29 = False,\n",
       " 9 = True,\n",
       " 11 = True,\n",
       " 1 = True,\n",
       " 19 = True,\n",
       " 24 = False,\n",
       " 45 = False,\n",
       " 31 = False,\n",
       " 32 = False,\n",
       " 10 = False,\n",
       " 21 = False,\n",
       " 39 = False,\n",
       " 23 = False,\n",
       " 35 = True,\n",
       " 5 = True,\n",
       " 40 = False,\n",
       " 26 = True,\n",
       " 44 = False,\n",
       " 42 = False,\n",
       " 2 = False,\n",
       " 16 = False,\n",
       " 28 = False,\n",
       " 43 = False,\n",
       " 14 = False,\n",
       " 27 = False,\n",
       " 22 = True,\n",
       " 25 = False,\n",
       " 48 = True,\n",
       " 4 = True,\n",
       " 20 = False,\n",
       " 18 = True]"
      ],
      "text/plain": [
       "[46 = False,\n",
       " 30 = False,\n",
       " 13 = True,\n",
       " 17 = False,\n",
       " 36 = True,\n",
       " 15 = False,\n",
       " 7 = True,\n",
       " 47 = True,\n",
       " 41 = False,\n",
       " 37 = False,\n",
       " 6 = True,\n",
       " 33 = False,\n",
       " 34 = True,\n",
       " 0 = False,\n",
       " 8 = True,\n",
       " 12 = False,\n",
       " 49 = False,\n",
       " 3 = True,\n",
       " 38 = True,\n",
       " 29 = False,\n",
       " 9 = True,\n",
       " 11 = True,\n",
       " 1 = True,\n",
       " 19 = True,\n",
       " 24 = False,\n",
       " 45 = False,\n",
       " 31 = False,\n",
       " 32 = False,\n",
       " 10 = False,\n",
       " 21 = False,\n",
       " 39 = False,\n",
       " 23 = False,\n",
       " 35 = True,\n",
       " 5 = True,\n",
       " 40 = False,\n",
       " 26 = True,\n",
       " 44 = False,\n",
       " 42 = False,\n",
       " 2 = False,\n",
       " 16 = False,\n",
       " 28 = False,\n",
       " 43 = False,\n",
       " 14 = False,\n",
       " 27 = False,\n",
       " 22 = True,\n",
       " 25 = False,\n",
       " 48 = True,\n",
       " 4 = True,\n",
       " 20 = False,\n",
       " 18 = True]"
      ]
     },
     "execution_count": 2,
     "metadata": {},
     "output_type": "execute_result"
    }
   ],
   "source": [
    "solve_uf_unknown('./data/sat_data/uf50-test/uf50-01.cnf')"
   ]
  },
  {
   "cell_type": "code",
   "execution_count": 5,
   "id": "813f3f93",
   "metadata": {},
   "outputs": [
    {
     "data": {
      "text/plain": [
       "0"
      ]
     },
     "execution_count": 5,
     "metadata": {},
     "output_type": "execute_result"
    }
   ],
   "source": [
    "num_vio, model = solve_maxsat_FM('./data/sat_data/uf50-test/uf50-03.cnf')\n",
    "num_vio\n"
   ]
  },
  {
   "cell_type": "code",
   "execution_count": 1,
   "id": "027093ed",
   "metadata": {},
   "outputs": [],
   "source": [
    "params = {\n",
    "    \"data\": \"stanford\",\n",
    "    \"mode\": \"maxcut\",\n",
    "    \"K\": 1,\n",
    "\n",
    "    \"lr\": 2e-3,\n",
    "    \"epoch\": 1e3,\n",
    "    \"mapping\": \"distribution\",\n",
    "    \"logging_path\": \"./log/maxcut_example.log\",\n",
    "    \"res_path\": \"./res/maxcut_example.hdf5\",\n",
    "    \"folder_path\": \"./data/maxcut_data/stanford_data/\",\n",
    "    \"N_realize\": 20, \n",
    "    \"Niter_h\": 120,\n",
    "    \"hyper\": True,\n",
    "    \"penalty\": 0,\n",
    "}"
   ]
  },
  {
   "cell_type": "code",
   "execution_count": 6,
   "id": "19d7a7e2",
   "metadata": {},
   "outputs": [],
   "source": [
    "from src.data_reading import read_uf, read_stanford, read_hypergraph\n",
    "import numpy as np\n",
    "import torch\n",
    "import random\n",
    "\n",
    "def loss_(probs, C):\n",
    "    loss = 0\n",
    "    for c in C:\n",
    "        temp_1s = 1\n",
    "        temp_0s = 1\n",
    "        for index in c:\n",
    "            temp_1s *= (1 - probs[index-1])\n",
    "            temp_0s *= (probs[index-1])\n",
    "        temp = (temp_1s + temp_0s - 1)\n",
    "        loss += temp\n",
    "    return loss\n",
    "def mapping(best_outs, params, n, info):\n",
    "    for rea in range(params['N_realize']):\n",
    "        res = {x: np.random.choice(range(2), p=[1 - best_outs[x], best_outs[x]]) for x in best_outs.keys()}\n",
    "        ord = random.sample(range(0, n), n)\n",
    "        t = 1\n",
    "        for it in range(params['Niter_h']):\n",
    "            res1 = res\n",
    "            for i in ord:\n",
    "                temp = res.copy()\n",
    "                # temp = pr.copy()\n",
    "                if res[i] == 0:\n",
    "                    temp[i] = 1\n",
    "                else:\n",
    "                    temp[i] = 0\n",
    "                lt= loss_(temp, info[i+1])\n",
    "                l1= loss_(res, info[i+1])\n",
    "                if lt < l1 or np.exp(- (lt - l1) / t) > np.random.uniform(0, 1):\n",
    "                    res = temp\n",
    "            t = t * 0.95\n",
    "    return res\n",
    "test = './data/maxcut_data/stanford_data/G15.txt'\n",
    "constraints, header = read_stanford(test)\n",
    "n = header['num_nodes']\n",
    "f = int(np.sqrt(n))\n",
    "info = {x+1:[] for x in range(n)}\n",
    "for constraint in constraints:\n",
    "    for node in constraint:\n",
    "        info[abs(node)].append(constraint) \n",
    "\n",
    "probs = torch.rand(n, requires_grad=True)"
   ]
  },
  {
   "cell_type": "code",
   "execution_count": 19,
   "id": "f226f94e",
   "metadata": {},
   "outputs": [
    {
     "data": {
      "text/plain": [
       "(4660, 800)"
      ]
     },
     "execution_count": 19,
     "metadata": {},
     "output_type": "execute_result"
    }
   ],
   "source": [
    "from src.data_reading import read_uf, read_stanford, read_hypergraph\n",
    "test = './data/maxcut_data/stanford_data/G15.txt'\n",
    "constraints, header = read_stanford(test)\n",
    "len(constraints), header['num_nodes']"
   ]
  },
  {
   "cell_type": "code",
   "execution_count": 35,
   "id": "bb29bd4c",
   "metadata": {},
   "outputs": [],
   "source": [
    "import random"
   ]
  },
  {
   "cell_type": "code",
   "execution_count": null,
   "id": "2d8a53d4",
   "metadata": {},
   "outputs": [],
   "source": [
    "import random\n",
    "def create_machines(constraints, n, n_machines):\n",
    "    \n",
    "    length = n // n_machines\n",
    "    belonging = list(range(1, n+1))\n",
    "    random.shuffle(belonging)\n",
    "    belonging_group = [belonging[(i*length+1):((i+1)*length+1)] for i in range(n_machines)]\n",
    "    belonging_dct = {}\n",
    "    for i, group in zip(range(len(belonging_group)), belonging_group):\n",
    "        for node in group:\n",
    "            belonging_dct[node] = i\n",
    "    info = {x+1:[] for x in range(n)}\n",
    "    for constraint in constraints:\n",
    "        for node in constraint:\n",
    "            info[abs(node)].append(constraint) \n",
    "    info_machine = {x+1:[] for x in range(n)}"
   ]
  },
  {
   "cell_type": "code",
   "execution_count": 16,
   "id": "a118d17e",
   "metadata": {},
   "outputs": [
    {
     "data": {
      "text/html": [
       "<div>\n",
       "<style scoped>\n",
       "    .dataframe tbody tr th:only-of-type {\n",
       "        vertical-align: middle;\n",
       "    }\n",
       "\n",
       "    .dataframe tbody tr th {\n",
       "        vertical-align: top;\n",
       "    }\n",
       "\n",
       "    .dataframe thead th {\n",
       "        text-align: right;\n",
       "    }\n",
       "</style>\n",
       "<table border=\"1\" class=\"dataframe\">\n",
       "  <thead>\n",
       "    <tr style=\"text-align: right;\">\n",
       "      <th></th>\n",
       "      <th>File_name</th>\n",
       "      <th>Result</th>\n",
       "    </tr>\n",
       "  </thead>\n",
       "  <tbody>\n",
       "    <tr>\n",
       "      <th>0</th>\n",
       "      <td>G1.txt</td>\n",
       "      <td>-11463</td>\n",
       "    </tr>\n",
       "    <tr>\n",
       "      <th>1</th>\n",
       "      <td>G10.txt</td>\n",
       "      <td>-11495</td>\n",
       "    </tr>\n",
       "    <tr>\n",
       "      <th>2</th>\n",
       "      <td>G11.txt</td>\n",
       "      <td>-1544</td>\n",
       "    </tr>\n",
       "    <tr>\n",
       "      <th>3</th>\n",
       "      <td>G12.txt</td>\n",
       "      <td>-1564</td>\n",
       "    </tr>\n",
       "    <tr>\n",
       "      <th>4</th>\n",
       "      <td>G13.txt</td>\n",
       "      <td>-1566</td>\n",
       "    </tr>\n",
       "    <tr>\n",
       "      <th>5</th>\n",
       "      <td>G14.txt</td>\n",
       "      <td>-3030</td>\n",
       "    </tr>\n",
       "    <tr>\n",
       "      <th>6</th>\n",
       "      <td>G15.txt</td>\n",
       "      <td>-3013</td>\n",
       "    </tr>\n",
       "    <tr>\n",
       "      <th>7</th>\n",
       "      <td>G2.txt</td>\n",
       "      <td>-11496</td>\n",
       "    </tr>\n",
       "    <tr>\n",
       "      <th>8</th>\n",
       "      <td>G3.txt</td>\n",
       "      <td>-11504</td>\n",
       "    </tr>\n",
       "    <tr>\n",
       "      <th>9</th>\n",
       "      <td>G4.txt</td>\n",
       "      <td>-11507</td>\n",
       "    </tr>\n",
       "    <tr>\n",
       "      <th>10</th>\n",
       "      <td>G5.txt</td>\n",
       "      <td>-11488</td>\n",
       "    </tr>\n",
       "    <tr>\n",
       "      <th>11</th>\n",
       "      <td>G6.txt</td>\n",
       "      <td>-11479</td>\n",
       "    </tr>\n",
       "    <tr>\n",
       "      <th>12</th>\n",
       "      <td>G7.txt</td>\n",
       "      <td>-11505</td>\n",
       "    </tr>\n",
       "    <tr>\n",
       "      <th>13</th>\n",
       "      <td>G8.txt</td>\n",
       "      <td>-11503</td>\n",
       "    </tr>\n",
       "    <tr>\n",
       "      <th>14</th>\n",
       "      <td>G9.txt</td>\n",
       "      <td>-11538</td>\n",
       "    </tr>\n",
       "  </tbody>\n",
       "</table>\n",
       "</div>"
      ],
      "text/plain": [
       "   File_name  Result\n",
       "0     G1.txt  -11463\n",
       "1    G10.txt  -11495\n",
       "2    G11.txt   -1544\n",
       "3    G12.txt   -1564\n",
       "4    G13.txt   -1566\n",
       "5    G14.txt   -3030\n",
       "6    G15.txt   -3013\n",
       "7     G2.txt  -11496\n",
       "8     G3.txt  -11504\n",
       "9     G4.txt  -11507\n",
       "10    G5.txt  -11488\n",
       "11    G6.txt  -11479\n",
       "12    G7.txt  -11505\n",
       "13    G8.txt  -11503\n",
       "14    G9.txt  -11538"
      ]
     },
     "execution_count": 16,
     "metadata": {},
     "output_type": "execute_result"
    }
   ],
   "source": [
    "from utils import analysis_res\n",
    "analysis_res('./res/maxcut_example_centralized.hdf5')"
   ]
  },
  {
   "cell_type": "code",
   "execution_count": 7,
   "id": "77626a71",
   "metadata": {},
   "outputs": [
    {
     "name": "stdout",
     "output_type": "stream",
     "text": [
      "at epoch 0, loss = -2181.626220703125\n"
     ]
    },
    {
     "ename": "KeyboardInterrupt",
     "evalue": "",
     "output_type": "error",
     "traceback": [
      "\u001b[1;31m---------------------------------------------------------------------------\u001b[0m",
      "\u001b[1;31mKeyboardInterrupt\u001b[0m                         Traceback (most recent call last)",
      "\u001b[1;32m~\\AppData\\Local\\Temp/ipykernel_13304/2114074149.py\u001b[0m in \u001b[0;36m<module>\u001b[1;34m\u001b[0m\n\u001b[0;32m      2\u001b[0m \u001b[1;32mfor\u001b[0m \u001b[0mi\u001b[0m \u001b[1;32min\u001b[0m \u001b[0mrange\u001b[0m\u001b[1;33m(\u001b[0m\u001b[0mint\u001b[0m\u001b[1;33m(\u001b[0m\u001b[0mparams\u001b[0m\u001b[1;33m[\u001b[0m\u001b[1;34m'epoch'\u001b[0m\u001b[1;33m]\u001b[0m\u001b[1;33m)\u001b[0m\u001b[1;33m)\u001b[0m\u001b[1;33m:\u001b[0m\u001b[1;33m\u001b[0m\u001b[1;33m\u001b[0m\u001b[0m\n\u001b[0;32m      3\u001b[0m     \u001b[0mprobs_\u001b[0m \u001b[1;33m=\u001b[0m \u001b[0mtorch\u001b[0m\u001b[1;33m.\u001b[0m\u001b[0msigmoid\u001b[0m\u001b[1;33m(\u001b[0m\u001b[0mprobs\u001b[0m\u001b[1;33m)\u001b[0m\u001b[1;33m\u001b[0m\u001b[1;33m\u001b[0m\u001b[0m\n\u001b[1;32m----> 4\u001b[1;33m     \u001b[0mloss\u001b[0m \u001b[1;33m=\u001b[0m \u001b[0mloss_\u001b[0m\u001b[1;33m(\u001b[0m\u001b[0mprobs_\u001b[0m\u001b[1;33m,\u001b[0m \u001b[0mconstraints\u001b[0m\u001b[1;33m)\u001b[0m\u001b[1;33m\u001b[0m\u001b[1;33m\u001b[0m\u001b[0m\n\u001b[0m\u001b[0;32m      5\u001b[0m     \u001b[0mloss\u001b[0m\u001b[1;33m.\u001b[0m\u001b[0mbackward\u001b[0m\u001b[1;33m(\u001b[0m\u001b[1;33m)\u001b[0m\u001b[1;33m\u001b[0m\u001b[1;33m\u001b[0m\u001b[0m\n\u001b[0;32m      6\u001b[0m     \u001b[1;32mif\u001b[0m \u001b[1;33m(\u001b[0m\u001b[0mlast_loss\u001b[0m \u001b[1;33m-\u001b[0m \u001b[0mloss\u001b[0m\u001b[1;33m)\u001b[0m\u001b[1;33m.\u001b[0m\u001b[0mitem\u001b[0m\u001b[1;33m(\u001b[0m\u001b[1;33m)\u001b[0m \u001b[1;33m<=\u001b[0m \u001b[1;36m1e-2\u001b[0m\u001b[1;33m:\u001b[0m\u001b[1;33m\u001b[0m\u001b[1;33m\u001b[0m\u001b[0m\n",
      "\u001b[1;32m~\\AppData\\Local\\Temp/ipykernel_13304/2466883591.py\u001b[0m in \u001b[0;36mloss_\u001b[1;34m(probs, C)\u001b[0m\n\u001b[0;32m     12\u001b[0m             \u001b[0mtemp_1s\u001b[0m \u001b[1;33m*=\u001b[0m \u001b[1;33m(\u001b[0m\u001b[1;36m1\u001b[0m \u001b[1;33m-\u001b[0m \u001b[0mprobs\u001b[0m\u001b[1;33m[\u001b[0m\u001b[0mindex\u001b[0m\u001b[1;33m-\u001b[0m\u001b[1;36m1\u001b[0m\u001b[1;33m]\u001b[0m\u001b[1;33m)\u001b[0m\u001b[1;33m\u001b[0m\u001b[1;33m\u001b[0m\u001b[0m\n\u001b[0;32m     13\u001b[0m             \u001b[0mtemp_0s\u001b[0m \u001b[1;33m*=\u001b[0m \u001b[1;33m(\u001b[0m\u001b[0mprobs\u001b[0m\u001b[1;33m[\u001b[0m\u001b[0mindex\u001b[0m\u001b[1;33m-\u001b[0m\u001b[1;36m1\u001b[0m\u001b[1;33m]\u001b[0m\u001b[1;33m)\u001b[0m\u001b[1;33m\u001b[0m\u001b[1;33m\u001b[0m\u001b[0m\n\u001b[1;32m---> 14\u001b[1;33m         \u001b[0mtemp\u001b[0m \u001b[1;33m=\u001b[0m \u001b[1;33m(\u001b[0m\u001b[0mtemp_1s\u001b[0m \u001b[1;33m+\u001b[0m \u001b[0mtemp_0s\u001b[0m \u001b[1;33m-\u001b[0m \u001b[1;36m1\u001b[0m\u001b[1;33m)\u001b[0m\u001b[1;33m\u001b[0m\u001b[1;33m\u001b[0m\u001b[0m\n\u001b[0m\u001b[0;32m     15\u001b[0m         \u001b[0mloss\u001b[0m \u001b[1;33m+=\u001b[0m \u001b[0mtemp\u001b[0m\u001b[1;33m\u001b[0m\u001b[1;33m\u001b[0m\u001b[0m\n\u001b[0;32m     16\u001b[0m     \u001b[1;32mreturn\u001b[0m \u001b[0mloss\u001b[0m\u001b[1;33m\u001b[0m\u001b[1;33m\u001b[0m\u001b[0m\n",
      "\u001b[1;31mKeyboardInterrupt\u001b[0m: "
     ]
    }
   ],
   "source": [
    "last_loss = 0\n",
    "for i in range(int(params['epoch'])):\n",
    "    probs_ = torch.sigmoid(probs)\n",
    "    loss = loss_(probs_, constraints)\n",
    "    loss.backward()\n",
    "    if (last_loss - loss).item() <= 1e-2:\n",
    "        last_loss = loss\n",
    "        break\n",
    "    if i % 100 == 0:\n",
    "        print(f'at epoch {i}, loss = {loss.item()}')\n",
    "    probs = probs.clone().detach() - probs.grad * params['lr']\n",
    "    probs.requires_grad_()"
   ]
  },
  {
   "cell_type": "code",
   "execution_count": 8,
   "id": "499c4798",
   "metadata": {},
   "outputs": [],
   "source": [
    "probs = torch.sigmoid(probs)\n",
    "probs = probs.detach().numpy()\n",
    "probs = {i: probs[i] for i in range(len(probs))}\n",
    "reses = mapping(probs, params, n, info)"
   ]
  },
  {
   "cell_type": "code",
   "execution_count": 11,
   "id": "9e2b6926",
   "metadata": {},
   "outputs": [],
   "source": [
    "reses = loss_(reses, constraints)"
   ]
  },
  {
   "cell_type": "code",
   "execution_count": 12,
   "id": "e113ddc6",
   "metadata": {},
   "outputs": [
    {
     "data": {
      "text/plain": [
       "-3004"
      ]
     },
     "execution_count": 12,
     "metadata": {},
     "output_type": "execute_result"
    }
   ],
   "source": [
    "reses"
   ]
  },
  {
   "cell_type": "code",
   "execution_count": null,
   "id": "5565edb8",
   "metadata": {},
   "outputs": [],
   "source": []
  }
 ],
 "metadata": {
  "kernelspec": {
   "display_name": "ACES_GNN",
   "language": "python",
   "name": "aces_gnn"
  },
  "language_info": {
   "codemirror_mode": {
    "name": "ipython",
    "version": 3
   },
   "file_extension": ".py",
   "mimetype": "text/x-python",
   "name": "python",
   "nbconvert_exporter": "python",
   "pygments_lexer": "ipython3",
   "version": "3.9.7"
  }
 },
 "nbformat": 4,
 "nbformat_minor": 5
}
